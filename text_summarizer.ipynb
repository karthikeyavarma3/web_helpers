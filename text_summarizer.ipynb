{
 "cells": [
  {
   "cell_type": "markdown",
   "metadata": {},
   "source": [
    "<h3> Using BART for summarization</h3>"
   ]
  },
  {
   "cell_type": "markdown",
   "metadata": {},
   "source": [
    "The model is pretrained on a large corpus of text using a denoising autoencoder objective, where parts of the input sequence are randomly masked, and the model learns to reconstruct the original text. <br> In the code, I loaded a pretrained version of BART from the Hugging Face's transformers library, specifically the \"facebook/bart-base\" variant.<br><br>I did try using the bart-large version, but my laptop was unable to handle as requires more RAM."
   ]
  },
  {
   "cell_type": "code",
   "execution_count": 2,
   "metadata": {},
   "outputs": [
    {
     "name": "stdout",
     "output_type": "stream",
     "text": [
      "Requirement already satisfied: transformers in c:\\python310\\lib\\site-packages (4.30.2)\n",
      "Requirement already satisfied: filelock in c:\\python310\\lib\\site-packages (from transformers) (3.12.0)\n",
      "Requirement already satisfied: huggingface-hub<1.0,>=0.14.1 in c:\\python310\\lib\\site-packages (from transformers) (0.16.4)\n",
      "Requirement already satisfied: numpy>=1.17 in c:\\python310\\lib\\site-packages (from transformers) (1.25.1)\n",
      "Requirement already satisfied: packaging>=20.0 in c:\\python310\\lib\\site-packages (from transformers) (21.3)\n",
      "Requirement already satisfied: pyyaml>=5.1 in c:\\python310\\lib\\site-packages (from transformers) (6.0)\n",
      "Requirement already satisfied: regex!=2019.12.17 in c:\\python310\\lib\\site-packages (from transformers) (2023.6.3)\n",
      "Requirement already satisfied: requests in c:\\python310\\lib\\site-packages (from transformers) (2.28.1)\n",
      "Requirement already satisfied: tokenizers!=0.11.3,<0.14,>=0.11.1 in c:\\python310\\lib\\site-packages (from transformers) (0.13.3)\n",
      "Requirement already satisfied: safetensors>=0.3.1 in c:\\python310\\lib\\site-packages (from transformers) (0.3.1)\n",
      "Requirement already satisfied: tqdm>=4.27 in c:\\python310\\lib\\site-packages (from transformers) (4.64.1)\n",
      "Requirement already satisfied: fsspec in c:\\python310\\lib\\site-packages (from huggingface-hub<1.0,>=0.14.1->transformers) (2023.6.0)\n",
      "Requirement already satisfied: typing-extensions>=3.7.4.3 in c:\\python310\\lib\\site-packages (from huggingface-hub<1.0,>=0.14.1->transformers) (4.4.0)\n",
      "Requirement already satisfied: pyparsing!=3.0.5,>=2.0.2 in c:\\python310\\lib\\site-packages (from packaging>=20.0->transformers) (3.0.8)\n",
      "Requirement already satisfied: colorama in c:\\python310\\lib\\site-packages (from tqdm>=4.27->transformers) (0.4.6)\n",
      "Requirement already satisfied: charset-normalizer<3,>=2 in c:\\python310\\lib\\site-packages (from requests->transformers) (2.1.1)\n",
      "Requirement already satisfied: idna<4,>=2.5 in c:\\python310\\lib\\site-packages (from requests->transformers) (2.10)\n",
      "Requirement already satisfied: urllib3<1.27,>=1.21.1 in c:\\python310\\lib\\site-packages (from requests->transformers) (1.26.13)\n",
      "Requirement already satisfied: certifi>=2017.4.17 in c:\\python310\\lib\\site-packages (from requests->transformers) (2022.12.7)\n"
     ]
    },
    {
     "name": "stderr",
     "output_type": "stream",
     "text": [
      "WARNING: Ignoring invalid distribution -rotobuf (c:\\python310\\lib\\site-packages)\n",
      "WARNING: Ignoring invalid distribution -rotobuf (c:\\python310\\lib\\site-packages)\n"
     ]
    }
   ],
   "source": [
    "!pip install transformers"
   ]
  },
  {
   "cell_type": "code",
   "execution_count": 5,
   "metadata": {},
   "outputs": [],
   "source": [
    "import pandas as pd\n",
    "df=pd.read_csv('Augmented_data.csv')\n",
    "df_copy=df"
   ]
  },
  {
   "cell_type": "code",
   "execution_count": 7,
   "metadata": {},
   "outputs": [],
   "source": [
    "df_copy.drop(df_copy.columns[0], axis=1, inplace=True)"
   ]
  },
  {
   "cell_type": "code",
   "execution_count": 8,
   "metadata": {},
   "outputs": [
    {
     "data": {
      "text/html": [
       "<div>\n",
       "<style scoped>\n",
       "    .dataframe tbody tr th:only-of-type {\n",
       "        vertical-align: middle;\n",
       "    }\n",
       "\n",
       "    .dataframe tbody tr th {\n",
       "        vertical-align: top;\n",
       "    }\n",
       "\n",
       "    .dataframe thead th {\n",
       "        text-align: right;\n",
       "    }\n",
       "</style>\n",
       "<table border=\"1\" class=\"dataframe\">\n",
       "  <thead>\n",
       "    <tr style=\"text-align: right;\">\n",
       "      <th></th>\n",
       "      <th>label</th>\n",
       "      <th>review</th>\n",
       "    </tr>\n",
       "  </thead>\n",
       "  <tbody>\n",
       "    <tr>\n",
       "      <th>0</th>\n",
       "      <td>__label__2</td>\n",
       "      <td>\\t\"Great CD: My lovely Pat has one of the GREA...</td>\n",
       "    </tr>\n",
       "    <tr>\n",
       "      <th>1</th>\n",
       "      <td>__label__2</td>\n",
       "      <td>\\t\"One of the best game music soundtracks - fo...</td>\n",
       "    </tr>\n",
       "    <tr>\n",
       "      <th>2</th>\n",
       "      <td>__label__1</td>\n",
       "      <td>\\t\"Batteries died within a year ...: I bought ...</td>\n",
       "    </tr>\n",
       "    <tr>\n",
       "      <th>3</th>\n",
       "      <td>__label__2</td>\n",
       "      <td>\\t\"works fine, but Maha Energy is better: Chec...</td>\n",
       "    </tr>\n",
       "    <tr>\n",
       "      <th>4</th>\n",
       "      <td>__label__2</td>\n",
       "      <td>\\t\"Great for the non-audiophile: Reviewed quit...</td>\n",
       "    </tr>\n",
       "    <tr>\n",
       "      <th>...</th>\n",
       "      <td>...</td>\n",
       "      <td>...</td>\n",
       "    </tr>\n",
       "    <tr>\n",
       "      <th>2095</th>\n",
       "      <td>__label__1</td>\n",
       "      <td>\\t\"Can I shoot myself now??: A few years back ...</td>\n",
       "    </tr>\n",
       "    <tr>\n",
       "      <th>2096</th>\n",
       "      <td>__label__1</td>\n",
       "      <td>\\tAwful: This was one of the worst books I hav...</td>\n",
       "    </tr>\n",
       "    <tr>\n",
       "      <th>2097</th>\n",
       "      <td>__label__1</td>\n",
       "      <td>\\tAwful: This was one of the worst books I hav...</td>\n",
       "    </tr>\n",
       "    <tr>\n",
       "      <th>2098</th>\n",
       "      <td>__label__1</td>\n",
       "      <td>\\tCruel and Depressing Story: Hardy paints a c...</td>\n",
       "    </tr>\n",
       "    <tr>\n",
       "      <th>2099</th>\n",
       "      <td>__label__1</td>\n",
       "      <td>\\tCruel and Depressing Story: Hardy paints a c...</td>\n",
       "    </tr>\n",
       "  </tbody>\n",
       "</table>\n",
       "<p>2100 rows × 2 columns</p>\n",
       "</div>"
      ],
      "text/plain": [
       "           label                                             review\n",
       "0     __label__2  \\t\"Great CD: My lovely Pat has one of the GREA...\n",
       "1     __label__2  \\t\"One of the best game music soundtracks - fo...\n",
       "2     __label__1  \\t\"Batteries died within a year ...: I bought ...\n",
       "3     __label__2  \\t\"works fine, but Maha Energy is better: Chec...\n",
       "4     __label__2  \\t\"Great for the non-audiophile: Reviewed quit...\n",
       "...          ...                                                ...\n",
       "2095  __label__1  \\t\"Can I shoot myself now??: A few years back ...\n",
       "2096  __label__1  \\tAwful: This was one of the worst books I hav...\n",
       "2097  __label__1  \\tAwful: This was one of the worst books I hav...\n",
       "2098  __label__1  \\tCruel and Depressing Story: Hardy paints a c...\n",
       "2099  __label__1  \\tCruel and Depressing Story: Hardy paints a c...\n",
       "\n",
       "[2100 rows x 2 columns]"
      ]
     },
     "execution_count": 8,
     "metadata": {},
     "output_type": "execute_result"
    }
   ],
   "source": [
    "df_copy"
   ]
  },
  {
   "cell_type": "code",
   "execution_count": 21,
   "metadata": {},
   "outputs": [
    {
     "name": "stdout",
     "output_type": "stream",
     "text": [
      "Review 1 Summary: summarize: _________________________\"Great CD: My lovely Pat has one of the GREAT voices of her generation. I have listened\n",
      "Review 2 Summary: summarize: _________________\"One of the best game music soundtracks - for a game I didn't really play: Despite\n",
      "Review 3 Summary: summarize: _________________\"Batteries died within a year...: I bought this charger in Jul 2003 and it worked\n",
      "Review 4 Summary: summarize: __________________\"works fine, but Maha Energy is better: Check out Maha's website. Their Pow\n",
      "Review 5 Summary: summarize: _________________\"Great for the non-audiophile: Reviewed quite a bit of the combo players and was\n",
      "Review 6 Summary: summarize: _________________\"DVD Player crapped out after one year: I also began having the incorrect disc problems that I\n",
      "Review 7 Summary: summarize: _________________\"Incorrect Disc: I love the style of this, but after a couple years, the DVD\n",
      "Review 8 Summary: summarize: _________________\"DVD menu select problems: I cannot scroll through a DVD menu that is set up vertically. The\n",
      "Review 9 Summary: summarize: _________________\"Unique Weird Orientalia from the 1930's: Exotic tales of the Orient from the 30's\n",
      "Review 10 Summary: summarize: _________________\"Not an \"\"ultimate guide\"\": Firstly,I enjoyed the format and tone of the book (\n",
      "Review 11 Summary: summarize: __________________\"Great book for travelling Europe: I currently live in Europe, and this is the book I recommend\n",
      "Review 12 Summary: summarize: _________________\"Not!: If you want to listen to El Duke, then it is better if you have access\n",
      "Review 13 Summary: summarize: _________________\"A complete Bust: This game requires quicktime 5.0 to work...if you have a\n",
      "Review 14 Summary: summarize: __________________________TRULY MADE A DIFFERENCE!: I have been using this product for a couple\n",
      "Review 15 Summary: summarize: __________________________________________\"didn't run off of USB bus power: Was hoping that this drive would runoff of\n",
      "Review 16 Summary: summarize: _________________\"Don't buy!: First of all, the company took my money and sent me an email telling\n",
      "Review 17 Summary: summarize: _________________\"Simple, Durable, Fun game for all ages: This is an AWESOME game!\n",
      "Review 18 Summary: summarize: _________________\"Review of Kelly Club for Toddlers: For the price of 7.99, this PC game\n",
      "Review 19 Summary: summarize: Â\"SOY UN APASIONADO DEL BOX: Y ESTE LIBRO ESTÃ\n",
      "Review 20 Summary: summarize: __________________Some of the best fiddle playing I have heard in a long time: This is an excellent album\n",
      "Review 21 Summary: summarize: _________________\"Long and boring: I've read this book with much expectation, it was very boring all through\n",
      "Review 22 Summary: summarize: __________________Dont like it: This product smells when you open the package and it appears one of the gel\n",
      "Review 23 Summary: summarize: __________________one of the last in the series to collect!: The magazine was in very good condition and had\n",
      "Review 24 Summary: summarize: __________________\"Sony Hi8 Camcorder with 2.5 LCD: I believe I will be very happy\n",
      "Review 25 Summary: summarize: _________________\"Don't Take the Chance - Get the SE Branded Cable: If you purchase this data cable\n",
      "Review 26 Summary: summarize: _________________\"Waste of money!: Like many of the Barbie CD Roms, the playtime is limited\n",
      "Review 27 Summary: summarize: _________________\"works great: i bought this item to connect to a strobe light. unit functions well.\n",
      "Review 28 Summary: summarize: __________________\"Has No Range: I suppose if you were going to sit in the same room and have line\n",
      "Review 29 Summary: summarize: _________________\"wish i had gotten this sooner!: ive got a lamp in the corner of my room\n",
      "Review 30 Summary: summarize: __________________\"Three Days of Use and It Broke: Very disappointed in this product. It worked perfectly for\n",
      "Review 31 Summary: summarize: _________________\"This is the all time best book!: This is the best book. She mentoins in\n"
     ]
    }
   ],
   "source": [
    "import torch\n",
    "from transformers import BartTokenizer, BartForConditionalGeneration\n",
    "\n",
    "def summarize_reviews(reviews, max_length=150):\n",
    "    tokenizer = BartTokenizer.from_pretrained(\"facebook/bart-base\") #bart-base used instead of bart-large due to incompatibility issues\n",
    "    model = BartForConditionalGeneration.from_pretrained(\"facebook/bart-base\")\n",
    "\n",
    "    summaries = []\n",
    "\n",
    "    for review in reviews:\n",
    "        inputs = tokenizer.encode(\"summarize: \" + review, return_tensors=\"pt\", max_length=max_length, truncation=True)\n",
    "\n",
    "        # The length of summarization can be changed accoordingly. I have used a max-length of 30 as we are summarizing reviews which arent generally very long\n",
    "\n",
    "        summary_ids = model.generate(inputs, max_length=30, min_length=10, length_penalty=2.0, num_beams=4, early_stopping=True)\n",
    "        summary = tokenizer.decode(summary_ids[0], skip_special_tokens=True)\n",
    "        summaries.append(summary)\n",
    "\n",
    "    return summaries\n",
    "\n",
    "#To check if this script is being run as a main program or imported as a module\n",
    "if __name__ == \"__main__\":\n",
    "    reviews = df_copy.loc[:30, 'review']   # i have taken 30 just to test as, my laptop cant handle huge data at once\n",
    "\n",
    "    summary_list = summarize_reviews(reviews)\n",
    "\n",
    "    for i, summary in enumerate(summary_list):\n",
    "        print(f\"Review {i + 1} Summary: {summary}\")\n"
   ]
  },
  {
   "cell_type": "code",
   "execution_count": 19,
   "metadata": {},
   "outputs": [
    {
     "data": {
      "text/plain": [
       "0     \\t\"Great CD: My lovely Pat has one of the GREA...\n",
       "1     \\t\"One of the best game music soundtracks - fo...\n",
       "2     \\t\"Batteries died within a year ...: I bought ...\n",
       "3     \\t\"works fine, but Maha Energy is better: Chec...\n",
       "4     \\t\"Great for the non-audiophile: Reviewed quit...\n",
       "5     \\t\"DVD Player crapped out after one year: I al...\n",
       "6     \\t\"Incorrect Disc: I love the style of this, b...\n",
       "7     \\t\"DVD menu select problems: I cannot scroll t...\n",
       "8     \\t\"Unique Weird Orientalia from the 1930's: Ex...\n",
       "9     \\t\"Not an \"\"ultimate guide\"\": Firstly,I enjoye...\n",
       "10    \\t\"Great book for travelling Europe: I current...\n",
       "11    \\t\"Not!: If you want to listen to El Duke , th...\n",
       "12    \\t\"A complete Bust: This game requires quickti...\n",
       "13    \\tTRULY MADE A DIFFERENCE!: I have been using ...\n",
       "14    \\t\"didn't run off of USB bus power: Was hoping...\n",
       "15    \\t\"Don't buy!: First of all, the company took ...\n",
       "16    \\t\"Simple, Durable, Fun game for all ages: Thi...\n",
       "17    \\t\"Review of Kelly Club for Toddlers: For the ...\n",
       "18    \\t\"SOY UN APASIONADO DEL BOX: Y ESTE LIBRO EST...\n",
       "19    \\tSome of the best fiddle playing I have heard...\n",
       "20    \\t\"Long and boring: I've read this book with m...\n",
       "21    \\tDont like it: This product smells when you o...\n",
       "22    \\tone of the last in the series to collect !: ...\n",
       "23    \\t\"Sony Hi8 Camcorder with 2.5 LCD: I believe ...\n",
       "24    \\t\"Don't Take the Chance - Get the SE Branded ...\n",
       "25    \\t\"Waste of money!: Like many of the Barbie CD...\n",
       "26    \\t\"works great: i bought this item to connect ...\n",
       "27    \\t\"Has No Range: I suppose if you were going t...\n",
       "28    \\t\"wish i had gotten this sooner!: ive got a l...\n",
       "29    \\t\"Three Days of Use and It Broke: Very disapp...\n",
       "30    \\t\"This is the all time best book!: This is th...\n",
       "Name: review, dtype: object"
      ]
     },
     "execution_count": 19,
     "metadata": {},
     "output_type": "execute_result"
    }
   ],
   "source": [
    "df_copy.loc[:30,'review']"
   ]
  },
  {
   "cell_type": "code",
   "execution_count": null,
   "metadata": {},
   "outputs": [],
   "source": []
  }
 ],
 "metadata": {
  "kernelspec": {
   "display_name": "tit",
   "language": "python",
   "name": "tit"
  },
  "language_info": {
   "codemirror_mode": {
    "name": "ipython",
    "version": 3
   },
   "file_extension": ".py",
   "mimetype": "text/x-python",
   "name": "python",
   "nbconvert_exporter": "python",
   "pygments_lexer": "ipython3",
   "version": "3.10.2"
  },
  "orig_nbformat": 4
 },
 "nbformat": 4,
 "nbformat_minor": 2
}
